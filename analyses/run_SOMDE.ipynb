{
 "cells": [
  {
   "cell_type": "markdown",
   "metadata": {},
   "source": [
    "This file runs SOMDE (https://doi.org/10.1093/bioinformatics/btab471) on MERFISH mouse whole brain coronal section datasets. Aggregated datasets are saved such that nnSVG can be performed on them in R.\n",
    "\n",
    "Tutorials for SOMDE: https://pypi.org/project/somde/#description"
   ]
  },
  {
   "cell_type": "code",
   "execution_count": 2,
   "metadata": {},
   "outputs": [],
   "source": [
    "## set up\n",
    "import numpy as np;\n",
    "import pandas as pd;\n",
    "from somde import SomNode"
   ]
  },
  {
   "cell_type": "code",
   "execution_count": 9,
   "metadata": {},
   "outputs": [],
   "source": [
    "## load dataset\n",
    "dataset_name = \"merfish_mouseBrain\"\n",
    "\n",
    "# genes-by-cells matrix\n",
    "# counts = pd.read_csv(\"../outputs/\"+dataset_name+\"_counts.csv\", sep=\",\", index_col=0)\n",
    "# lognorm = pd.read_csv(\"../outputs/\"+dataset_name+\"_lognorm.csv\", sep=\",\", index_col=0)\n",
    "\n",
    "# x,y coordinates\n",
    "pos_cells = pd.read_csv(\"../outputs/\"+dataset_name+\"_pos.csv\", sep=\",\", index_col=0)"
   ]
  },
  {
   "cell_type": "code",
   "execution_count": 12,
   "metadata": {},
   "outputs": [],
   "source": [
    "X = pos_cells[[\"x\", \"y\"]].values.astype(np.float32)"
   ]
  },
  {
   "cell_type": "code",
   "execution_count": 17,
   "metadata": {},
   "outputs": [
    {
     "data": {
      "text/plain": [
       "17"
      ]
     },
     "execution_count": 17,
     "metadata": {},
     "output_type": "execute_result"
    }
   ],
   "source": [
    "## compute k based on the number of notes (aggregated spatial points) we want\n",
    "# k = neighbor number (expected average number of original data sites each SOM node represents)\n",
    "n_node = 4896\n",
    "k = pos_cells.shape[0]//4896\n",
    "k"
   ]
  },
  {
   "cell_type": "code",
   "execution_count": 24,
   "metadata": {},
   "outputs": [
    {
     "name": "stdout",
     "output_type": "stream",
     "text": [
      "using 70*70 SOM nodes for 83546 points\n"
     ]
    },
    {
     "ename": "NameError",
     "evalue": "name 'wrap_train' is not defined",
     "output_type": "error",
     "traceback": [
      "\u001b[0;31m---------------------------------------------------------------------------\u001b[0m",
      "\u001b[0;31mNameError\u001b[0m                                 Traceback (most recent call last)",
      "Cell \u001b[0;32mIn[24], line 2\u001b[0m\n\u001b[1;32m      1\u001b[0m \u001b[38;5;66;03m## train self-organizing map (SOM) nodes\u001b[39;00m\n\u001b[0;32m----> 2\u001b[0m som \u001b[38;5;241m=\u001b[39m \u001b[43mSomNode\u001b[49m\u001b[43m(\u001b[49m\u001b[43mX\u001b[49m\u001b[43m,\u001b[49m\u001b[43m \u001b[49m\u001b[43mk\u001b[49m\u001b[38;5;241;43m=\u001b[39;49m\u001b[43mk\u001b[49m\u001b[43m)\u001b[49m\n",
      "File \u001b[0;32m~/Desktop/SEraster-analyses/venv/lib/python3.11/site-packages/somde/som.py:28\u001b[0m, in \u001b[0;36mSomNode.__init__\u001b[0;34m(self, X, k, homogeneous_codebook)\u001b[0m\n\u001b[1;32m     26\u001b[0m \u001b[38;5;28;01melse\u001b[39;00m:\n\u001b[1;32m     27\u001b[0m     \u001b[38;5;28mself\u001b[39m\u001b[38;5;241m.\u001b[39msom \u001b[38;5;241m=\u001b[39m somoclu\u001b[38;5;241m.\u001b[39mSomoclu(\u001b[38;5;28mself\u001b[39m\u001b[38;5;241m.\u001b[39msomn, \u001b[38;5;28mself\u001b[39m\u001b[38;5;241m.\u001b[39msomn)\n\u001b[0;32m---> 28\u001b[0m \u001b[38;5;28;43mself\u001b[39;49m\u001b[38;5;241;43m.\u001b[39;49m\u001b[43msom\u001b[49m\u001b[38;5;241;43m.\u001b[39;49m\u001b[43mtrain\u001b[49m\u001b[43m(\u001b[49m\u001b[43mX\u001b[49m\u001b[43m,\u001b[49m\u001b[43mepochs\u001b[49m\u001b[38;5;241;43m=\u001b[39;49m\u001b[38;5;241;43m10\u001b[39;49m\u001b[43m)\u001b[49m\n",
      "File \u001b[0;32m~/Desktop/SEraster-analyses/venv/lib/python3.11/site-packages/somoclu/train.py:236\u001b[0m, in \u001b[0;36mSomoclu.train\u001b[0;34m(self, data, epochs, radius0, radiusN, radiuscooling, scale0, scaleN, scalecooling)\u001b[0m\n\u001b[1;32m    234\u001b[0m \u001b[38;5;28mself\u001b[39m\u001b[38;5;241m.\u001b[39mumatrix\u001b[38;5;241m.\u001b[39mshape \u001b[38;5;241m=\u001b[39m (\u001b[38;5;28mself\u001b[39m\u001b[38;5;241m.\u001b[39m_n_rows \u001b[38;5;241m*\u001b[39m \u001b[38;5;28mself\u001b[39m\u001b[38;5;241m.\u001b[39m_n_columns, )\n\u001b[1;32m    235\u001b[0m \u001b[38;5;28mself\u001b[39m\u001b[38;5;241m.\u001b[39mbmus\u001b[38;5;241m.\u001b[39mshape \u001b[38;5;241m=\u001b[39m (\u001b[38;5;28mself\u001b[39m\u001b[38;5;241m.\u001b[39mn_vectors \u001b[38;5;241m*\u001b[39m \u001b[38;5;241m2\u001b[39m, )\n\u001b[0;32m--> 236\u001b[0m \u001b[43mwrap_train\u001b[49m(np\u001b[38;5;241m.\u001b[39mravel(\u001b[38;5;28mself\u001b[39m\u001b[38;5;241m.\u001b[39m_data), epochs, \u001b[38;5;28mself\u001b[39m\u001b[38;5;241m.\u001b[39m_n_columns, \u001b[38;5;28mself\u001b[39m\u001b[38;5;241m.\u001b[39m_n_rows,\n\u001b[1;32m    237\u001b[0m            \u001b[38;5;28mself\u001b[39m\u001b[38;5;241m.\u001b[39mn_dim, \u001b[38;5;28mself\u001b[39m\u001b[38;5;241m.\u001b[39mn_vectors, radius0, radiusN,\n\u001b[1;32m    238\u001b[0m            radiuscooling, scale0, scaleN, scalecooling,\n\u001b[1;32m    239\u001b[0m            \u001b[38;5;28mself\u001b[39m\u001b[38;5;241m.\u001b[39m_kernel_type, \u001b[38;5;28mself\u001b[39m\u001b[38;5;241m.\u001b[39m_map_type, \u001b[38;5;28mself\u001b[39m\u001b[38;5;241m.\u001b[39m_grid_type,\n\u001b[1;32m    240\u001b[0m            \u001b[38;5;28mself\u001b[39m\u001b[38;5;241m.\u001b[39m_compact_support, \u001b[38;5;28mself\u001b[39m\u001b[38;5;241m.\u001b[39m_neighborhood \u001b[38;5;241m==\u001b[39m \u001b[38;5;124m\"\u001b[39m\u001b[38;5;124mgaussian\u001b[39m\u001b[38;5;124m\"\u001b[39m,\n\u001b[1;32m    241\u001b[0m            \u001b[38;5;28mself\u001b[39m\u001b[38;5;241m.\u001b[39m_std_coeff, \u001b[38;5;28mself\u001b[39m\u001b[38;5;241m.\u001b[39m_verbose, \u001b[38;5;28mself\u001b[39m\u001b[38;5;241m.\u001b[39mcodebook, \u001b[38;5;28mself\u001b[39m\u001b[38;5;241m.\u001b[39mbmus,\n\u001b[1;32m    242\u001b[0m            \u001b[38;5;28mself\u001b[39m\u001b[38;5;241m.\u001b[39mumatrix, \u001b[38;5;28mself\u001b[39m\u001b[38;5;241m.\u001b[39m_vect_distance)\n\u001b[1;32m    243\u001b[0m \u001b[38;5;28mself\u001b[39m\u001b[38;5;241m.\u001b[39mumatrix\u001b[38;5;241m.\u001b[39mshape \u001b[38;5;241m=\u001b[39m (\u001b[38;5;28mself\u001b[39m\u001b[38;5;241m.\u001b[39m_n_rows, \u001b[38;5;28mself\u001b[39m\u001b[38;5;241m.\u001b[39m_n_columns)\n\u001b[1;32m    244\u001b[0m \u001b[38;5;28mself\u001b[39m\u001b[38;5;241m.\u001b[39mbmus\u001b[38;5;241m.\u001b[39mshape \u001b[38;5;241m=\u001b[39m (\u001b[38;5;28mself\u001b[39m\u001b[38;5;241m.\u001b[39mn_vectors, \u001b[38;5;241m2\u001b[39m)\n",
      "\u001b[0;31mNameError\u001b[0m: name 'wrap_train' is not defined"
     ]
    }
   ],
   "source": [
    "## train self-organizing map (SOM) nodes\n",
    "som = SomNode(X, k=k)"
   ]
  },
  {
   "cell_type": "code",
   "execution_count": 15,
   "metadata": {},
   "outputs": [
    {
     "data": {
      "text/plain": [
       "83546"
      ]
     },
     "execution_count": 15,
     "metadata": {},
     "output_type": "execute_result"
    }
   ],
   "source": [
    "## visualize trained SOM nodes\n",
    "som.view()"
   ]
  }
 ],
 "metadata": {
  "kernelspec": {
   "display_name": "venv",
   "language": "python",
   "name": "python3"
  },
  "language_info": {
   "codemirror_mode": {
    "name": "ipython",
    "version": 3
   },
   "file_extension": ".py",
   "mimetype": "text/x-python",
   "name": "python",
   "nbconvert_exporter": "python",
   "pygments_lexer": "ipython3",
   "version": "3.11.5"
  }
 },
 "nbformat": 4,
 "nbformat_minor": 2
}
